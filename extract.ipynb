{
 "cells": [
  {
   "cell_type": "code",
   "execution_count": 1,
   "id": "d903d2e6",
   "metadata": {},
   "outputs": [
    {
     "name": "stdout",
     "output_type": "stream",
     "text": [
      "Warning: Looks like you're using an outdated `kagglehub` version (installed: 0.3.11), please consider upgrading to the latest version (0.3.12).\n"
     ]
    }
   ],
   "source": [
    "import kagglehub\n",
    "\n",
    "# Download latest version\n",
    "path = kagglehub.dataset_download(\"gregorut/videogamesales\")\n",
    "\n",
    "csv_path = path + \"/vgsales.csv\""
   ]
  },
  {
   "cell_type": "code",
   "execution_count": 2,
   "id": "22b29a92",
   "metadata": {},
   "outputs": [
    {
     "name": "stdout",
     "output_type": "stream",
     "text": [
      "shape: (5, 11)\n",
      "┌──────┬──────────────────┬──────────┬──────┬───┬──────────┬──────────┬─────────────┬──────────────┐\n",
      "│ Rank ┆ Name             ┆ Platform ┆ Year ┆ … ┆ EU_Sales ┆ JP_Sales ┆ Other_Sales ┆ Global_Sales │\n",
      "│ ---  ┆ ---              ┆ ---      ┆ ---  ┆   ┆ ---      ┆ ---      ┆ ---         ┆ ---          │\n",
      "│ i64  ┆ str              ┆ str      ┆ i64  ┆   ┆ f64      ┆ f64      ┆ f64         ┆ f64          │\n",
      "╞══════╪══════════════════╪══════════╪══════╪═══╪══════════╪══════════╪═════════════╪══════════════╡\n",
      "│ 1    ┆ Wii Sports       ┆ Wii      ┆ 2006 ┆ … ┆ 29.02    ┆ 3.77     ┆ 8.46        ┆ 82.74        │\n",
      "│ 2    ┆ Super Mario      ┆ NES      ┆ 1985 ┆ … ┆ 3.58     ┆ 6.81     ┆ 0.77        ┆ 40.24        │\n",
      "│      ┆ Bros.            ┆          ┆      ┆   ┆          ┆          ┆             ┆              │\n",
      "│ 3    ┆ Mario Kart Wii   ┆ Wii      ┆ 2008 ┆ … ┆ 12.88    ┆ 3.79     ┆ 3.31        ┆ 35.82        │\n",
      "│ 4    ┆ Wii Sports       ┆ Wii      ┆ 2009 ┆ … ┆ 11.01    ┆ 3.28     ┆ 2.96        ┆ 33.0         │\n",
      "│      ┆ Resort           ┆          ┆      ┆   ┆          ┆          ┆             ┆              │\n",
      "│ 5    ┆ Pokemon          ┆ GB       ┆ 1996 ┆ … ┆ 8.89     ┆ 10.22    ┆ 1.0         ┆ 31.37        │\n",
      "│      ┆ Red/Pokemon Blue ┆          ┆      ┆   ┆          ┆          ┆             ┆              │\n",
      "└──────┴──────────────────┴──────────┴──────┴───┴──────────┴──────────┴─────────────┴──────────────┘\n"
     ]
    }
   ],
   "source": [
    "import polars as pl\n",
    "\n",
    "vgsales = pl.read_csv(csv_path, null_values=[\"N/A\"])\n",
    "# Show the first 5 rows\n",
    "print(vgsales.head())\n"
   ]
  },
  {
   "cell_type": "code",
   "execution_count": 3,
   "id": "f569479d",
   "metadata": {},
   "outputs": [
    {
     "name": "stdout",
     "output_type": "stream",
     "text": [
      "['Rank', 'Name', 'Platform', 'Year', 'Genre', 'Publisher', 'NA_Sales', 'EU_Sales', 'JP_Sales', 'Other_Sales', 'Global_Sales']\n",
      "11493\n",
      "(16598, 11)\n",
      "[Int64, String, String, Int64, String, String, Float64, Float64, Float64, Float64, Float64]\n"
     ]
    },
    {
     "data": {
      "text/html": [
       "<div><style>\n",
       ".dataframe > thead > tr,\n",
       ".dataframe > tbody > tr {\n",
       "  text-align: right;\n",
       "  white-space: pre-wrap;\n",
       "}\n",
       "</style>\n",
       "<small>shape: (16_598, 10)</small><table border=\"1\" class=\"dataframe\"><thead><tr><th>Rank</th><th>Name</th><th>Platform</th><th>Year</th><th>Genre</th><th>Publisher</th><th>NA_Sales</th><th>EU_Sales</th><th>JP_Sales</th><th>Other_Sales</th></tr><tr><td>i64</td><td>str</td><td>str</td><td>i64</td><td>str</td><td>str</td><td>f64</td><td>f64</td><td>f64</td><td>f64</td></tr></thead><tbody><tr><td>1</td><td>&quot;Wii Sports&quot;</td><td>&quot;Wii&quot;</td><td>2006</td><td>&quot;Sports&quot;</td><td>&quot;Nintendo&quot;</td><td>41.49</td><td>29.02</td><td>3.77</td><td>8.46</td></tr><tr><td>2</td><td>&quot;Super Mario Bros.&quot;</td><td>&quot;NES&quot;</td><td>1985</td><td>&quot;Platform&quot;</td><td>&quot;Nintendo&quot;</td><td>29.08</td><td>3.58</td><td>6.81</td><td>0.77</td></tr><tr><td>3</td><td>&quot;Mario Kart Wii&quot;</td><td>&quot;Wii&quot;</td><td>2008</td><td>&quot;Racing&quot;</td><td>&quot;Nintendo&quot;</td><td>15.85</td><td>12.88</td><td>3.79</td><td>3.31</td></tr><tr><td>4</td><td>&quot;Wii Sports Resort&quot;</td><td>&quot;Wii&quot;</td><td>2009</td><td>&quot;Sports&quot;</td><td>&quot;Nintendo&quot;</td><td>15.75</td><td>11.01</td><td>3.28</td><td>2.96</td></tr><tr><td>5</td><td>&quot;Pokemon Red/Pokemon Blue&quot;</td><td>&quot;GB&quot;</td><td>1996</td><td>&quot;Role-Playing&quot;</td><td>&quot;Nintendo&quot;</td><td>11.27</td><td>8.89</td><td>10.22</td><td>1.0</td></tr><tr><td>&hellip;</td><td>&hellip;</td><td>&hellip;</td><td>&hellip;</td><td>&hellip;</td><td>&hellip;</td><td>&hellip;</td><td>&hellip;</td><td>&hellip;</td><td>&hellip;</td></tr><tr><td>16596</td><td>&quot;Woody Woodpecker in Crazy Cast…</td><td>&quot;GBA&quot;</td><td>2002</td><td>&quot;Platform&quot;</td><td>&quot;Kemco&quot;</td><td>0.01</td><td>0.0</td><td>0.0</td><td>0.0</td></tr><tr><td>16597</td><td>&quot;Men in Black II: Alien Escape&quot;</td><td>&quot;GC&quot;</td><td>2003</td><td>&quot;Shooter&quot;</td><td>&quot;Infogrames&quot;</td><td>0.01</td><td>0.0</td><td>0.0</td><td>0.0</td></tr><tr><td>16598</td><td>&quot;SCORE International Baja 1000:…</td><td>&quot;PS2&quot;</td><td>2008</td><td>&quot;Racing&quot;</td><td>&quot;Activision&quot;</td><td>0.0</td><td>0.0</td><td>0.0</td><td>0.0</td></tr><tr><td>16599</td><td>&quot;Know How 2&quot;</td><td>&quot;DS&quot;</td><td>2010</td><td>&quot;Puzzle&quot;</td><td>&quot;7G//AMES&quot;</td><td>0.0</td><td>0.01</td><td>0.0</td><td>0.0</td></tr><tr><td>16600</td><td>&quot;Spirits &amp; Spells&quot;</td><td>&quot;GBA&quot;</td><td>2003</td><td>&quot;Platform&quot;</td><td>&quot;Wanadoo&quot;</td><td>0.01</td><td>0.0</td><td>0.0</td><td>0.0</td></tr></tbody></table></div>"
      ],
      "text/plain": [
       "shape: (16_598, 10)\n",
       "┌───────┬─────────────────────┬──────────┬──────┬───┬──────────┬──────────┬──────────┬─────────────┐\n",
       "│ Rank  ┆ Name                ┆ Platform ┆ Year ┆ … ┆ NA_Sales ┆ EU_Sales ┆ JP_Sales ┆ Other_Sales │\n",
       "│ ---   ┆ ---                 ┆ ---      ┆ ---  ┆   ┆ ---      ┆ ---      ┆ ---      ┆ ---         │\n",
       "│ i64   ┆ str                 ┆ str      ┆ i64  ┆   ┆ f64      ┆ f64      ┆ f64      ┆ f64         │\n",
       "╞═══════╪═════════════════════╪══════════╪══════╪═══╪══════════╪══════════╪══════════╪═════════════╡\n",
       "│ 1     ┆ Wii Sports          ┆ Wii      ┆ 2006 ┆ … ┆ 41.49    ┆ 29.02    ┆ 3.77     ┆ 8.46        │\n",
       "│ 2     ┆ Super Mario Bros.   ┆ NES      ┆ 1985 ┆ … ┆ 29.08    ┆ 3.58     ┆ 6.81     ┆ 0.77        │\n",
       "│ 3     ┆ Mario Kart Wii      ┆ Wii      ┆ 2008 ┆ … ┆ 15.85    ┆ 12.88    ┆ 3.79     ┆ 3.31        │\n",
       "│ 4     ┆ Wii Sports Resort   ┆ Wii      ┆ 2009 ┆ … ┆ 15.75    ┆ 11.01    ┆ 3.28     ┆ 2.96        │\n",
       "│ 5     ┆ Pokemon Red/Pokemon ┆ GB       ┆ 1996 ┆ … ┆ 11.27    ┆ 8.89     ┆ 10.22    ┆ 1.0         │\n",
       "│       ┆ Blue                ┆          ┆      ┆   ┆          ┆          ┆          ┆             │\n",
       "│ …     ┆ …                   ┆ …        ┆ …    ┆ … ┆ …        ┆ …        ┆ …        ┆ …           │\n",
       "│ 16596 ┆ Woody Woodpecker in ┆ GBA      ┆ 2002 ┆ … ┆ 0.01     ┆ 0.0      ┆ 0.0      ┆ 0.0         │\n",
       "│       ┆ Crazy Cast…         ┆          ┆      ┆   ┆          ┆          ┆          ┆             │\n",
       "│ 16597 ┆ Men in Black II:    ┆ GC       ┆ 2003 ┆ … ┆ 0.01     ┆ 0.0      ┆ 0.0      ┆ 0.0         │\n",
       "│       ┆ Alien Escape        ┆          ┆      ┆   ┆          ┆          ┆          ┆             │\n",
       "│ 16598 ┆ SCORE International ┆ PS2      ┆ 2008 ┆ … ┆ 0.0      ┆ 0.0      ┆ 0.0      ┆ 0.0         │\n",
       "│       ┆ Baja 1000:…         ┆          ┆      ┆   ┆          ┆          ┆          ┆             │\n",
       "│ 16599 ┆ Know How 2          ┆ DS       ┆ 2010 ┆ … ┆ 0.0      ┆ 0.01     ┆ 0.0      ┆ 0.0         │\n",
       "│ 16600 ┆ Spirits & Spells    ┆ GBA      ┆ 2003 ┆ … ┆ 0.01     ┆ 0.0      ┆ 0.0      ┆ 0.0         │\n",
       "└───────┴─────────────────────┴──────────┴──────┴───┴──────────┴──────────┴──────────┴─────────────┘"
      ]
     },
     "execution_count": 3,
     "metadata": {},
     "output_type": "execute_result"
    }
   ],
   "source": [
    "print(vgsales.columns)\n",
    "print(len(vgsales['Name'].unique()))\n",
    "print(vgsales.shape)\n",
    "print(vgsales.dtypes)\n",
    "\n",
    "vgsales.drop('Rank')\n",
    "vgsales.drop('Global_Sales')\n",
    "\n"
   ]
  },
  {
   "cell_type": "code",
   "execution_count": 4,
   "id": "bb7a9e53",
   "metadata": {},
   "outputs": [
    {
     "name": "stdout",
     "output_type": "stream",
     "text": [
      "['Rank, 0', 'Name, 0', 'Platform, 0', 'Year, 271', 'Genre, 0', 'Publisher, 58', 'NA_Sales, 0', 'EU_Sales, 0', 'JP_Sales, 0', 'Other_Sales, 0', 'Global_Sales, 0']\n"
     ]
    }
   ],
   "source": [
    "print([x + \", \" + str(vgsales[x].is_null().sum()) for x in vgsales.columns])\n"
   ]
  },
  {
   "cell_type": "code",
   "execution_count": 5,
   "id": "94c9e924",
   "metadata": {},
   "outputs": [
    {
     "name": "stdout",
     "output_type": "stream",
     "text": [
      "['Rank', 'Name', 'Platform', 'Year', 'Genre', 'Publisher', 'NA_Sales', 'EU_Sales', 'JP_Sales', 'Other_Sales', 'Global_Sales']\n",
      "(16291, 11)\n",
      "[Int64, String, String, Int64, String, String, Float64, Float64, Float64, Float64, Float64]\n",
      "['Rank, 0', 'Name, 0', 'Platform, 0', 'Year, 0', 'Genre, 0', 'Publisher, 0', 'NA_Sales, 0', 'EU_Sales, 0', 'JP_Sales, 0', 'Other_Sales, 0', 'Global_Sales, 0']\n"
     ]
    }
   ],
   "source": [
    "vgsales = vgsales.drop_nulls()\n",
    "\n",
    "print(vgsales.columns)\n",
    "print(vgsales.shape)\n",
    "print(vgsales.dtypes)\n",
    "print([x + \", \" + str(vgsales[x].is_null().sum()) for x in vgsales.columns])\n"
   ]
  },
  {
   "cell_type": "code",
   "execution_count": null,
   "id": "9ef39c01",
   "metadata": {},
   "outputs": [],
   "source": []
  },
  {
   "cell_type": "code",
   "execution_count": 6,
   "id": "266c9036",
   "metadata": {},
   "outputs": [
    {
     "data": {
      "text/plain": [
       "16291"
      ]
     },
     "execution_count": 6,
     "metadata": {},
     "output_type": "execute_result"
    }
   ],
   "source": [
    "# load vào clickhouse\n",
    "\n",
    "from dotenv import load_dotenv\n",
    "import os\n",
    "\n",
    "# Load biến môi trường từ file .env\n",
    "load_dotenv()\n",
    "\n",
    "# Lấy user và password từ environment\n",
    "db_user = os.getenv(\"DB_USER\")\n",
    "db_password = os.getenv(\"DB_PASSWORD\")\n",
    "\n",
    "\n",
    "from clickhouse_driver import Client\n",
    "client = Client(\n",
    "    host='localhost',\n",
    "    port=9000,\n",
    "    user=db_user,\n",
    "    password=db_password\n",
    ")\n",
    "\n",
    "\n",
    "client.execute(\n",
    "    'INSERT INTO vgsales_raw.vgsales_raw (Name, Platform, Year, Genre, Publisher, NA_Sales, EU_Sales, JP_Sales, Other_Sales) VALUES',\n",
    "    vgsales.to_dicts()  # Chuyển DataFrame Polars thành list of dicts\n",
    ")"
   ]
  }
 ],
 "metadata": {
  "kernelspec": {
   "display_name": "Python 3",
   "language": "python",
   "name": "python3"
  },
  "language_info": {
   "codemirror_mode": {
    "name": "ipython",
    "version": 3
   },
   "file_extension": ".py",
   "mimetype": "text/x-python",
   "name": "python",
   "nbconvert_exporter": "python",
   "pygments_lexer": "ipython3",
   "version": "3.13.3"
  }
 },
 "nbformat": 4,
 "nbformat_minor": 5
}
