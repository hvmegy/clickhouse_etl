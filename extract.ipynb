{
 "cells": [
  {
   "cell_type": "code",
   "execution_count": 7,
   "id": "d903d2e6",
   "metadata": {},
   "outputs": [
    {
     "name": "stdout",
     "output_type": "stream",
     "text": [
      "Warning: Looks like you're using an outdated `kagglehub` version (installed: 0.3.11), please consider upgrading to the latest version (0.3.12).\n"
     ]
    }
   ],
   "source": [
    "import kagglehub\n",
    "\n",
    "# Download latest version\n",
    "path = kagglehub.dataset_download(\"gregorut/videogamesales\")\n",
    "\n",
    "csv_path = path + \"/vgsales.csv\""
   ]
  },
  {
   "cell_type": "code",
   "execution_count": 8,
   "id": "22b29a92",
   "metadata": {},
   "outputs": [
    {
     "name": "stdout",
     "output_type": "stream",
     "text": [
      "shape: (5, 11)\n",
      "┌──────┬──────────────────┬──────────┬──────┬───┬──────────┬──────────┬─────────────┬──────────────┐\n",
      "│ Rank ┆ Name             ┆ Platform ┆ Year ┆ … ┆ EU_Sales ┆ JP_Sales ┆ Other_Sales ┆ Global_Sales │\n",
      "│ ---  ┆ ---              ┆ ---      ┆ ---  ┆   ┆ ---      ┆ ---      ┆ ---         ┆ ---          │\n",
      "│ i64  ┆ str              ┆ str      ┆ i64  ┆   ┆ f64      ┆ f64      ┆ f64         ┆ f64          │\n",
      "╞══════╪══════════════════╪══════════╪══════╪═══╪══════════╪══════════╪═════════════╪══════════════╡\n",
      "│ 1    ┆ Wii Sports       ┆ Wii      ┆ 2006 ┆ … ┆ 29.02    ┆ 3.77     ┆ 8.46        ┆ 82.74        │\n",
      "│ 2    ┆ Super Mario      ┆ NES      ┆ 1985 ┆ … ┆ 3.58     ┆ 6.81     ┆ 0.77        ┆ 40.24        │\n",
      "│      ┆ Bros.            ┆          ┆      ┆   ┆          ┆          ┆             ┆              │\n",
      "│ 3    ┆ Mario Kart Wii   ┆ Wii      ┆ 2008 ┆ … ┆ 12.88    ┆ 3.79     ┆ 3.31        ┆ 35.82        │\n",
      "│ 4    ┆ Wii Sports       ┆ Wii      ┆ 2009 ┆ … ┆ 11.01    ┆ 3.28     ┆ 2.96        ┆ 33.0         │\n",
      "│      ┆ Resort           ┆          ┆      ┆   ┆          ┆          ┆             ┆              │\n",
      "│ 5    ┆ Pokemon          ┆ GB       ┆ 1996 ┆ … ┆ 8.89     ┆ 10.22    ┆ 1.0         ┆ 31.37        │\n",
      "│      ┆ Red/Pokemon Blue ┆          ┆      ┆   ┆          ┆          ┆             ┆              │\n",
      "└──────┴──────────────────┴──────────┴──────┴───┴──────────┴──────────┴─────────────┴──────────────┘\n"
     ]
    }
   ],
   "source": [
    "import polars as pl\n",
    "\n",
    "vgsales = pl.read_csv(csv_path, null_values=[\"N/A\"])\n",
    "# Show the first 5 rows\n",
    "print(vgsales.head())\n"
   ]
  },
  {
   "cell_type": "code",
   "execution_count": 9,
   "id": "f569479d",
   "metadata": {},
   "outputs": [
    {
     "name": "stdout",
     "output_type": "stream",
     "text": [
      "['Rank', 'Name', 'Platform', 'Year', 'Genre', 'Publisher', 'NA_Sales', 'EU_Sales', 'JP_Sales', 'Other_Sales', 'Global_Sales']\n",
      "11493\n",
      "(16598, 11)\n",
      "[Int64, String, String, Int64, String, String, Float64, Float64, Float64, Float64, Float64]\n"
     ]
    }
   ],
   "source": [
    "print(vgsales.columns)\n",
    "print(len(vgsales['Name'].unique()))\n",
    "print(vgsales.shape)\n",
    "print(vgsales.dtypes)\n",
    "\n"
   ]
  },
  {
   "cell_type": "code",
   "execution_count": 10,
   "id": "bb7a9e53",
   "metadata": {},
   "outputs": [
    {
     "name": "stdout",
     "output_type": "stream",
     "text": [
      "['Rank, 0', 'Name, 0', 'Platform, 0', 'Year, 271', 'Genre, 0', 'Publisher, 58', 'NA_Sales, 0', 'EU_Sales, 0', 'JP_Sales, 0', 'Other_Sales, 0', 'Global_Sales, 0']\n"
     ]
    }
   ],
   "source": [
    "print([x + \", \" + str(vgsales[x].is_null().sum()) for x in vgsales.columns])\n"
   ]
  },
  {
   "cell_type": "code",
   "execution_count": 11,
   "id": "94c9e924",
   "metadata": {},
   "outputs": [
    {
     "name": "stdout",
     "output_type": "stream",
     "text": [
      "['Rank', 'Name', 'Platform', 'Year', 'Genre', 'Publisher', 'NA_Sales', 'EU_Sales', 'JP_Sales', 'Other_Sales', 'Global_Sales']\n",
      "(16291, 11)\n",
      "[Int64, String, String, Int64, String, String, Float64, Float64, Float64, Float64, Float64]\n",
      "['Rank, 0', 'Name, 0', 'Platform, 0', 'Year, 0', 'Genre, 0', 'Publisher, 0', 'NA_Sales, 0', 'EU_Sales, 0', 'JP_Sales, 0', 'Other_Sales, 0', 'Global_Sales, 0']\n",
      "shape: (16_291,)\n",
      "Series: 'Rank' [i64]\n",
      "[\n",
      "\t1\n",
      "\t2\n",
      "\t3\n",
      "\t4\n",
      "\t5\n",
      "\t…\n",
      "\t16596\n",
      "\t16597\n",
      "\t16598\n",
      "\t16599\n",
      "\t16600\n",
      "]\n"
     ]
    }
   ],
   "source": [
    "vgsales = vgsales.drop_nulls()\n",
    "\n",
    "print(vgsales.columns)\n",
    "print(vgsales.shape)\n",
    "print(vgsales.dtypes)\n",
    "print([x + \", \" + str(vgsales[x].is_null().sum()) for x in vgsales.columns])\n",
    "print(vgsales['Rank'].unique())\n"
   ]
  },
  {
   "cell_type": "code",
   "execution_count": 12,
   "id": "266c9036",
   "metadata": {},
   "outputs": [
    {
     "data": {
      "text/plain": [
       "16291"
      ]
     },
     "execution_count": 12,
     "metadata": {},
     "output_type": "execute_result"
    }
   ],
   "source": [
    "# load vào clickhouse\n",
    "\n",
    "from clickhouse_driver import Client\n",
    "client = Client(host='localhost', port=9000, user='default', password='secret')\n",
    "\n",
    "\n",
    "client.execute(\n",
    "    'INSERT INTO vgsales_stage.vgsales_raw (Rank, Name, Platform, Year, Genre, Publisher, NA_Sales, EU_Sales, JP_Sales, Other_Sales, Global_Sales) VALUES',\n",
    "    vgsales.to_dicts()  # Chuyển DataFrame Polars thành list of dicts\n",
    ")"
   ]
  }
 ],
 "metadata": {
  "kernelspec": {
   "display_name": "Python 3",
   "language": "python",
   "name": "python3"
  },
  "language_info": {
   "codemirror_mode": {
    "name": "ipython",
    "version": 3
   },
   "file_extension": ".py",
   "mimetype": "text/x-python",
   "name": "python",
   "nbconvert_exporter": "python",
   "pygments_lexer": "ipython3",
   "version": "3.13.3"
  }
 },
 "nbformat": 4,
 "nbformat_minor": 5
}
